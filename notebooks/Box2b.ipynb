{
 "cells": [
  {
   "cell_type": "code",
   "execution_count": 1,
   "metadata": {},
   "outputs": [
    {
     "name": "stdout",
     "output_type": "stream",
     "text": [
      "Samples:\n",
      "\t8 parameters: ['x1', 'x2', 'x3', 'x4', 'x5', 'x6', 'x7', 'x8']\n",
      "\t9000 evaluations \n",
      "\n",
      "Outputs:\n",
      "\t1 outputs: ['Y']\n",
      "\t9000 evaluations \n",
      "\n",
      "Analysis:\n",
      "          mu   mu_star     sigma  mu_star_conf\n",
      "x1  0.022084  2.612547  2.737028      0.052250\n",
      "x2  0.047827  1.441302  1.634405      0.048126\n",
      "x3 -0.034698  0.596377  0.691939      0.017550\n",
      "x4 -0.028873  0.328173  0.384837      0.013199\n",
      "x5 -0.001124  0.033406  0.039273      0.001205\n",
      "x6 -0.001552  0.033400  0.039238      0.001293\n",
      "x7 -0.001546  0.034216  0.039986      0.001227\n",
      "x8  0.001518  0.034003  0.039842      0.001253 \n",
      "\n",
      "\n"
     ]
    },
    {
     "data": {
      "text/plain": [
       "<AxesSubplot:>"
      ]
     },
     "execution_count": 1,
     "metadata": {},
     "output_type": "execute_result"
    },
    {
     "data": {
      "image/png": "[encoded data removed]",
      "text/plain": [
       "<Figure size 432x288 with 1 Axes>"
      ]
     },
     "metadata": {
      "needs_background": "light"
     },
     "output_type": "display_data"
    }
   ],
   "source": [
    "from SALib.test_functions import Sobol_G\n",
    "from SALib import ProblemSpec\n",
    "\n",
    "\n",
    "# Problem specification for the Sobol_G test function\n",
    "sp = ProblemSpec({\n",
    "    'names': ['x1', 'x2', 'x3', 'x4', 'x5', 'x6', 'x7', 'x8'],\n",
    "    'groups': None,\n",
    "    'bounds': [[0.0, 1.0],] * 8,\n",
    "    'outputs': ['Y']  # Optional output name\n",
    "})\n",
    "\n",
    "(sp.sample_morris(1000, num_levels=4)\n",
    "   .evaluate(Sobol_G.evaluate)\n",
    "   .analyze_morris(num_levels=4, \n",
    "                   num_resamples=100))\n",
    "\n",
    "# Show table of results\n",
    "print(sp)\n",
    "\n",
    "# Display plot of results\n",
    "sp.plot()\n"
   ]
  },
  {
   "cell_type": "markdown",
   "metadata": {},
   "source": [
    "Same as above without comments for publication"
   ]
  },
  {
   "cell_type": "code",
   "execution_count": 2,
   "metadata": {},
   "outputs": [
    {
     "name": "stdout",
     "output_type": "stream",
     "text": [
      "Samples:\n",
      "\t8 parameters: ['x1', 'x2', 'x3', 'x4', 'x5', 'x6', 'x7', 'x8']\n",
      "\t9000 evaluations \n",
      "\n",
      "Outputs:\n",
      "\t1 outputs: ['Y']\n",
      "\t9000 evaluations \n",
      "\n",
      "Analysis:\n",
      "          mu   mu_star     sigma  mu_star_conf\n",
      "x1 -0.067218  2.604600  2.736889      0.050355\n",
      "x2  0.030863  1.470890  1.657148      0.049123\n",
      "x3  0.017406  0.580904  0.675652      0.022676\n",
      "x4 -0.022482  0.326909  0.381985      0.012423\n",
      "x5 -0.001323  0.034229  0.039990      0.001282\n",
      "x6  0.000839  0.034974  0.041073      0.001363\n",
      "x7  0.001827  0.033755  0.039487      0.001225\n",
      "x8 -0.002425  0.033972  0.039815      0.001261 \n",
      "\n",
      "\n"
     ]
    },
    {
     "data": {
      "text/plain": [
       "<AxesSubplot:>"
      ]
     },
     "execution_count": 2,
     "metadata": {},
     "output_type": "execute_result"
    },
    {
     "data": {
      "image/png": "[encoded data removed]",
      "text/plain": [
       "<Figure size 432x288 with 1 Axes>"
      ]
     },
     "metadata": {
      "needs_background": "light"
     },
     "output_type": "display_data"
    }
   ],
   "source": [
    "from SALib.test_functions import Sobol_G\n",
    "from SALib import ProblemSpec\n",
    "\n",
    "\n",
    "sp = ProblemSpec({\n",
    "    'names': ['x1', 'x2', 'x3', 'x4', 'x5', 'x6', 'x7', 'x8'],\n",
    "    'groups': None,\n",
    "    'bounds': [[0.0, 1.0],] * 8,\n",
    "    'outputs': ['Y']\n",
    "})\n",
    "\n",
    "(sp.sample_morris(1000, num_levels=4)\n",
    "   .evaluate(Sobol_G.evaluate)\n",
    "   .analyze_morris(num_levels=4, \n",
    "                   num_resamples=100))\n",
    "\n",
    "print(sp)\n",
    "\n",
    "ax = sp.plot()"
   ]
  },
  {
   "cell_type": "markdown",
   "metadata": {},
   "source": [
    "`sp` is a custom dictionary object to maintain backwards-compatibility with the earlier procedural approach"
   ]
  },
  {
   "cell_type": "code",
   "execution_count": 4,
   "metadata": {},
   "outputs": [
    {
     "data": {
      "text/plain": [
       "{'names': ['x1', 'x2', 'x3', 'x4', 'x5', 'x6', 'x7', 'x8'],\n",
       " 'groups': ['x1', 'x2', 'x3', 'x4', 'x5', 'x6', 'x7', 'x8'],\n",
       " 'bounds': [[0.0, 1.0],\n",
       "  [0.0, 1.0],\n",
       "  [0.0, 1.0],\n",
       "  [0.0, 1.0],\n",
       "  [0.0, 1.0],\n",
       "  [0.0, 1.0],\n",
       "  [0.0, 1.0],\n",
       "  [0.0, 1.0]],\n",
       " 'outputs': ['Y'],\n",
       " 'num_vars': 8,\n",
       " 'sample_scaled': True}"
      ]
     },
     "execution_count": 4,
     "metadata": {},
     "output_type": "execute_result"
    }
   ],
   "source": [
    "sp"
   ]
  },
  {
   "cell_type": "markdown",
   "metadata": {},
   "source": [
    "Procedural style"
   ]
  },
  {
   "cell_type": "code",
   "execution_count": 3,
   "metadata": {},
   "outputs": [
    {
     "name": "stdout",
     "output_type": "stream",
     "text": [
      "Samples:\n",
      "\t8 parameters: ['x1', 'x2', 'x3', 'x4', 'x5', 'x6', 'x7', 'x8']\n",
      "\t9000 evaluations \n",
      "\n",
      "Outputs:\n",
      "\t1 outputs: ['Y']\n",
      "\t9000 evaluations \n",
      "\n",
      "Analysis:\n",
      "          mu   mu_star     sigma  mu_star_conf\n",
      "x1 -0.014754  2.577642  2.707128      0.049941\n",
      "x2  0.033953  1.469166  1.660798      0.046889\n",
      "x3 -0.006055  0.585976  0.687890      0.023140\n",
      "x4  0.004197  0.340695  0.399135      0.013208\n",
      "x5  0.000999  0.033841  0.039662      0.001327\n",
      "x6  0.000948  0.034298  0.040155      0.001369\n",
      "x7  0.001426  0.034702  0.040663      0.001321\n",
      "x8  0.000692  0.034200  0.039962      0.001375 \n",
      "\n",
      "\n"
     ]
    },
    {
     "data": {
      "text/plain": [
       "<AxesSubplot:>"
      ]
     },
     "execution_count": 3,
     "metadata": {},
     "output_type": "execute_result"
    },
    {
     "data": {
      "image/png": "[encoded data removed]",
      "text/plain": [
       "<Figure size 432x288 with 1 Axes>"
      ]
     },
     "metadata": {
      "needs_background": "light"
     },
     "output_type": "display_data"
    }
   ],
   "source": [
    "sp = ProblemSpec({\n",
    "    'names': ['x1', 'x2', 'x3', 'x4', 'x5', 'x6', 'x7', 'x8'],\n",
    "    'groups': None,\n",
    "    'bounds': [[0.0, 1.0],] * 8,\n",
    "    'outputs': ['Y']\n",
    "})\n",
    "\n",
    "sp.sample_morris(1000, num_levels=4)\n",
    "sp.evaluate(Sobol_G.evaluate)\n",
    "sp.analyze_morris(num_levels=4, num_resamples=100)\n",
    "\n",
    "print(sp)\n",
    "\n",
    "sp.plot()"
   ]
  },
  {
   "cell_type": "code",
   "execution_count": 6,
   "metadata": {},
   "outputs": [],
   "source": []
  },
  {
   "cell_type": "code",
   "execution_count": null,
   "metadata": {},
   "outputs": [],
   "source": [
    "?sp.sample_"
   ]
  }
 ],
 "metadata": {
  "kernelspec": {
   "display_name": "Python 3 (ipykernel)",
   "language": "python",
   "name": "python3"
  },
  "language_info": {
   "codemirror_mode": {
    "name": "ipython",
    "version": 3
   },
   "file_extension": ".py",
   "mimetype": "text/x-python",
   "name": "python",
   "nbconvert_exporter": "python",
   "pygments_lexer": "ipython3",
   "version": "3.9.6"
  }
 },
 "nbformat": 4,
 "nbformat_minor": 2
}
