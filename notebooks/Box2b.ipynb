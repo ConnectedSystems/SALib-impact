{
 "cells": [
  {
   "cell_type": "code",
   "execution_count": 22,
   "metadata": {},
   "outputs": [
    {
     "name": "stdout",
     "output_type": "stream",
     "text": [
      "Samples:\n",
      "\t8 parameters: ['x1', 'x2', 'x3', 'x4', 'x5', 'x6', 'x7', 'x8']\n",
      "\t9000 evaluations \n",
      "\n",
      "Outputs:\n",
      "\t1 outputs: ['Y']\n",
      "\t9000 evaluations \n",
      "\n",
      "Analysis:\n",
      "          mu   mu_star     sigma  mu_star_conf\n",
      "x1  0.094224  2.595509  2.719205      0.054289\n",
      "x2  0.038762  1.486289  1.677687      0.041578\n",
      "x3 -0.007628  0.595197  0.692888      0.020773\n",
      "x4 -0.006204  0.326824  0.386222      0.011783\n",
      "x5  0.001658  0.035332  0.041377      0.001325\n",
      "x6 -0.003028  0.035522  0.041641      0.001259\n",
      "x7 -0.000988  0.035416  0.041373      0.001363\n",
      "x8  0.001371  0.035009  0.041213      0.001401 \n",
      "\n",
      "\n"
     ]
    },
    {
     "data": {
      "image/png": "[encoded data removed]",
      "text/plain": [
       "<Figure size 432x288 with 1 Axes>"
      ]
     },
     "metadata": {
      "needs_background": "light"
     },
     "output_type": "display_data"
    }
   ],
   "source": [
    "from SALib.test_functions import Sobol_G\n",
    "from SALib import ProblemSpec\n",
    "\n",
    "\n",
    "# Problem specification for the Sobol_G test function\n",
    "sp = ProblemSpec({\n",
    "    'names': ['x1', 'x2', 'x3', 'x4', 'x5', 'x6', 'x7', 'x8'],\n",
    "    'groups': None,\n",
    "    'dists': None,\n",
    "    'bounds': [[0.0, 1.0],] * 8,\n",
    "    'outputs': ['Y']  # Optional output name\n",
    "})\n",
    "\n",
    "(sp.sample_morris(1000, num_levels=4)\n",
    "   .evaluate(Sobol_G.evaluate)\n",
    "   .analyze_morris(num_levels=4, \n",
    "                   num_resamples=100))\n",
    "\n",
    "# Show table of results\n",
    "print(sp)\n",
    "\n",
    "# Display plot of results\n",
    "sp.plot();\n"
   ]
  },
  {
   "cell_type": "code",
   "execution_count": 19,
   "metadata": {},
   "outputs": [],
   "source": [
    "X = sp.samples\n",
    "Y = sp.results\n",
    "S = sp.analysis\n",
    "\n",
    "# sp.set_samples(X)\n",
    "# sp.samples = X"
   ]
  },
  {
   "cell_type": "code",
   "execution_count": 20,
   "metadata": {},
   "outputs": [
    {
     "data": {
      "text/plain": [
       "array([0.64312815, 0.73183548, 1.31730387, ..., 1.90391403, 1.92938445,\n",
       "       1.90391403])"
      ]
     },
     "execution_count": 20,
     "metadata": {},
     "output_type": "execute_result"
    }
   ],
   "source": [
    "sp.results"
   ]
  },
  {
   "cell_type": "code",
   "execution_count": 21,
   "metadata": {},
   "outputs": [
    {
     "ename": "AttributeError",
     "evalue": "can't set attribute",
     "output_type": "error",
     "traceback": [
      "\u001b[1;31m---------------------------------------------------------------------------\u001b[0m",
      "\u001b[1;31mAttributeError\u001b[0m                            Traceback (most recent call last)",
      "\u001b[1;32m~\\AppData\\Local\\Temp/ipykernel_5560/3795206964.py\u001b[0m in \u001b[0;36m<module>\u001b[1;34m\u001b[0m\n\u001b[0;32m      5\u001b[0m \u001b[0msp\u001b[0m\u001b[1;33m.\u001b[0m\u001b[0msamples\u001b[0m \u001b[1;33m=\u001b[0m \u001b[0mX\u001b[0m\u001b[1;33m\u001b[0m\u001b[1;33m\u001b[0m\u001b[0m\n\u001b[0;32m      6\u001b[0m \u001b[0msp\u001b[0m\u001b[1;33m.\u001b[0m\u001b[0mresults\u001b[0m \u001b[1;33m=\u001b[0m \u001b[0mY\u001b[0m\u001b[1;33m\u001b[0m\u001b[1;33m\u001b[0m\u001b[0m\n\u001b[1;32m----> 7\u001b[1;33m \u001b[0msp\u001b[0m\u001b[1;33m.\u001b[0m\u001b[0manalysis\u001b[0m \u001b[1;33m=\u001b[0m \u001b[0mS\u001b[0m\u001b[1;33m\u001b[0m\u001b[1;33m\u001b[0m\u001b[0m\n\u001b[0m",
      "\u001b[1;31mAttributeError\u001b[0m: can't set attribute"
     ]
    }
   ],
   "source": [
    "# X = sp.samples\n",
    "# Y = sp.results\n",
    "# S = sp.analysis\n",
    "\n",
    "sp.samples = X\n",
    "sp.results = Y\n",
    "sp.set_"
   ]
  },
  {
   "cell_type": "markdown",
   "metadata": {},
   "source": [
    "Same as above without comments for publication"
   ]
  },
  {
   "cell_type": "code",
   "execution_count": 2,
   "metadata": {},
   "outputs": [
    {
     "name": "stdout",
     "output_type": "stream",
     "text": [
      "Samples:\n",
      "\t8 parameters: ['x1', 'x2', 'x3', 'x4', 'x5', 'x6', 'x7', 'x8']\n",
      "\t9000 evaluations \n",
      "\n",
      "Outputs:\n",
      "\t1 outputs: ['Y']\n",
      "\t9000 evaluations \n",
      "\n",
      "Analysis:\n",
      "          mu   mu_star     sigma  mu_star_conf\n",
      "x1 -0.067218  2.604600  2.736889      0.050355\n",
      "x2  0.030863  1.470890  1.657148      0.049123\n",
      "x3  0.017406  0.580904  0.675652      0.022676\n",
      "x4 -0.022482  0.326909  0.381985      0.012423\n",
      "x5 -0.001323  0.034229  0.039990      0.001282\n",
      "x6  0.000839  0.034974  0.041073      0.001363\n",
      "x7  0.001827  0.033755  0.039487      0.001225\n",
      "x8 -0.002425  0.033972  0.039815      0.001261 \n",
      "\n",
      "\n"
     ]
    },
    {
     "data": {
      "text/plain": [
       "<AxesSubplot:>"
      ]
     },
     "execution_count": 2,
     "metadata": {},
     "output_type": "execute_result"
    },
    {
     "data": {
      "image/png": "[encoded data removed]",
      "text/plain": [
       "<Figure size 432x288 with 1 Axes>"
      ]
     },
     "metadata": {
      "needs_background": "light"
     },
     "output_type": "display_data"
    }
   ],
   "source": [
    "from SALib.test_functions import Sobol_G\n",
    "from SALib import ProblemSpec\n",
    "\n",
    "\n",
    "sp = ProblemSpec({\n",
    "    'names': ['x1', 'x2', 'x3', 'x4', 'x5', 'x6', 'x7', 'x8'],\n",
    "    'groups': None,\n",
    "    'bounds': [[0.0, 1.0],] * 8,\n",
    "    'outputs': ['Y']\n",
    "})\n",
    "\n",
    "(sp.sample_morris(1000, num_levels=4)\n",
    "   .evaluate(Sobol_G.evaluate)\n",
    "   .analyze_morris(num_levels=4, \n",
    "                   num_resamples=100))\n",
    "\n",
    "print(sp)\n",
    "\n",
    "ax = sp.plot()"
   ]
  },
  {
   "cell_type": "markdown",
   "metadata": {},
   "source": [
    "`sp` is a custom dictionary object to maintain backwards-compatibility with the earlier procedural approach"
   ]
  },
  {
   "cell_type": "code",
   "execution_count": 4,
   "metadata": {},
   "outputs": [
    {
     "data": {
      "text/plain": [
       "{'names': ['x1', 'x2', 'x3', 'x4', 'x5', 'x6', 'x7', 'x8'],\n",
       " 'groups': ['x1', 'x2', 'x3', 'x4', 'x5', 'x6', 'x7', 'x8'],\n",
       " 'bounds': [[0.0, 1.0],\n",
       "  [0.0, 1.0],\n",
       "  [0.0, 1.0],\n",
       "  [0.0, 1.0],\n",
       "  [0.0, 1.0],\n",
       "  [0.0, 1.0],\n",
       "  [0.0, 1.0],\n",
       "  [0.0, 1.0]],\n",
       " 'outputs': ['Y'],\n",
       " 'num_vars': 8,\n",
       " 'sample_scaled': True}"
      ]
     },
     "execution_count": 4,
     "metadata": {},
     "output_type": "execute_result"
    }
   ],
   "source": [
    "sp"
   ]
  },
  {
   "cell_type": "markdown",
   "metadata": {},
   "source": [
    "Procedural style"
   ]
  },
  {
   "cell_type": "code",
   "execution_count": 3,
   "metadata": {},
   "outputs": [
    {
     "name": "stdout",
     "output_type": "stream",
     "text": [
      "Samples:\n",
      "\t8 parameters: ['x1', 'x2', 'x3', 'x4', 'x5', 'x6', 'x7', 'x8']\n",
      "\t9000 evaluations \n",
      "\n",
      "Outputs:\n",
      "\t1 outputs: ['Y']\n",
      "\t9000 evaluations \n",
      "\n",
      "Analysis:\n",
      "          mu   mu_star     sigma  mu_star_conf\n",
      "x1 -0.014754  2.577642  2.707128      0.049941\n",
      "x2  0.033953  1.469166  1.660798      0.046889\n",
      "x3 -0.006055  0.585976  0.687890      0.023140\n",
      "x4  0.004197  0.340695  0.399135      0.013208\n",
      "x5  0.000999  0.033841  0.039662      0.001327\n",
      "x6  0.000948  0.034298  0.040155      0.001369\n",
      "x7  0.001426  0.034702  0.040663      0.001321\n",
      "x8  0.000692  0.034200  0.039962      0.001375 \n",
      "\n",
      "\n"
     ]
    },
    {
     "data": {
      "text/plain": [
       "<AxesSubplot:>"
      ]
     },
     "execution_count": 3,
     "metadata": {},
     "output_type": "execute_result"
    },
    {
     "data": {
      "image/png": "[encoded data removed]",
      "text/plain": [
       "<Figure size 432x288 with 1 Axes>"
      ]
     },
     "metadata": {
      "needs_background": "light"
     },
     "output_type": "display_data"
    }
   ],
   "source": [
    "sp = ProblemSpec({\n",
    "    'names': ['x1', 'x2', 'x3', 'x4', 'x5', 'x6', 'x7', 'x8'],\n",
    "    'groups': None,\n",
    "    'bounds': [[0.0, 1.0],] * 8,\n",
    "    'outputs': ['Y']\n",
    "})\n",
    "\n",
    "sp.sample_morris(1000, num_levels=4)\n",
    "sp.evaluate(Sobol_G.evaluate)\n",
    "sp.analyze_morris(num_levels=4, num_resamples=100)\n",
    "\n",
    "print(sp)\n",
    "\n",
    "sp.plot()"
   ]
  },
  {
   "cell_type": "code",
   "execution_count": 6,
   "metadata": {},
   "outputs": [],
   "source": []
  },
  {
   "cell_type": "code",
   "execution_count": null,
   "metadata": {},
   "outputs": [],
   "source": [
    "?sp.sample_"
   ]
  }
 ],
 "metadata": {
  "kernelspec": {
   "display_name": "Python (SALib-impact)",
   "language": "python",
   "name": "salib-impact"
  },
  "language_info": {
   "codemirror_mode": {
    "name": "ipython",
    "version": 3
   },
   "file_extension": ".py",
   "mimetype": "text/x-python",
   "name": "python",
   "nbconvert_exporter": "python",
   "pygments_lexer": "ipython3",
   "version": "3.9.6"
  }
 },
 "nbformat": 4,
 "nbformat_minor": 2
}
